{
 "cells": [
  {
   "cell_type": "markdown",
   "id": "9b909be9-627c-4903-8ced-0a672eccdb00",
   "metadata": {},
   "source": [
    "Customer Segmentation and Demand Patterns"
   ]
  },
  {
   "cell_type": "markdown",
   "id": "cd6b36ea-3957-4226-a4c3-adca185c40eb",
   "metadata": {},
   "source": [
    "Task 1: Segment customers using K-Means clustering"
   ]
  },
  {
   "cell_type": "markdown",
   "id": "4533f84a-b236-4056-aeb8-850fde5e82bb",
   "metadata": {},
   "source": [
    "1. Loading Datasets"
   ]
  },
  {
   "cell_type": "code",
   "execution_count": 2,
   "id": "a6e3025e-5ec6-47aa-98d3-61f37ebafbb4",
   "metadata": {},
   "outputs": [],
   "source": [
    "# Load datasets\n",
    "import pandas as pd\n",
    "sales_data = pd.read_csv('sales_data.csv')\n",
    "customers = pd.read_csv('customers.csv')"
   ]
  },
  {
   "cell_type": "code",
   "execution_count": 3,
   "id": "4983cd1c-d948-43b6-b84b-943c1ec1390f",
   "metadata": {},
   "outputs": [
    {
     "data": {
      "text/html": [
       "<div>\n",
       "<style scoped>\n",
       "    .dataframe tbody tr th:only-of-type {\n",
       "        vertical-align: middle;\n",
       "    }\n",
       "\n",
       "    .dataframe tbody tr th {\n",
       "        vertical-align: top;\n",
       "    }\n",
       "\n",
       "    .dataframe thead th {\n",
       "        text-align: right;\n",
       "    }\n",
       "</style>\n",
       "<table border=\"1\" class=\"dataframe\">\n",
       "  <thead>\n",
       "    <tr style=\"text-align: right;\">\n",
       "      <th></th>\n",
       "      <th>order_id</th>\n",
       "      <th>product_name</th>\n",
       "      <th>category</th>\n",
       "      <th>order_date</th>\n",
       "      <th>revenue</th>\n",
       "      <th>region</th>\n",
       "    </tr>\n",
       "  </thead>\n",
       "  <tbody>\n",
       "    <tr>\n",
       "      <th>0</th>\n",
       "      <td>1</td>\n",
       "      <td>Chicken</td>\n",
       "      <td>Meat</td>\n",
       "      <td>2023-12-05</td>\n",
       "      <td>443.177076</td>\n",
       "      <td>West</td>\n",
       "    </tr>\n",
       "    <tr>\n",
       "      <th>1</th>\n",
       "      <td>2</td>\n",
       "      <td>Eggs</td>\n",
       "      <td>Dairy</td>\n",
       "      <td>2023-09-30</td>\n",
       "      <td>263.980108</td>\n",
       "      <td>Central</td>\n",
       "    </tr>\n",
       "    <tr>\n",
       "      <th>2</th>\n",
       "      <td>3</td>\n",
       "      <td>Vegetables</td>\n",
       "      <td>Meat</td>\n",
       "      <td>2023-03-03</td>\n",
       "      <td>57.065403</td>\n",
       "      <td>South</td>\n",
       "    </tr>\n",
       "    <tr>\n",
       "      <th>3</th>\n",
       "      <td>4</td>\n",
       "      <td>Fruits</td>\n",
       "      <td>Dairy</td>\n",
       "      <td>2023-02-01</td>\n",
       "      <td>137.527289</td>\n",
       "      <td>East</td>\n",
       "    </tr>\n",
       "    <tr>\n",
       "      <th>4</th>\n",
       "      <td>5</td>\n",
       "      <td>Eggs</td>\n",
       "      <td>Bakery</td>\n",
       "      <td>2023-07-20</td>\n",
       "      <td>290.176776</td>\n",
       "      <td>South</td>\n",
       "    </tr>\n",
       "    <tr>\n",
       "      <th>...</th>\n",
       "      <td>...</td>\n",
       "      <td>...</td>\n",
       "      <td>...</td>\n",
       "      <td>...</td>\n",
       "      <td>...</td>\n",
       "      <td>...</td>\n",
       "    </tr>\n",
       "    <tr>\n",
       "      <th>4995</th>\n",
       "      <td>4996</td>\n",
       "      <td>Fruits</td>\n",
       "      <td>Bakery</td>\n",
       "      <td>2023-12-16</td>\n",
       "      <td>430.325756</td>\n",
       "      <td>South</td>\n",
       "    </tr>\n",
       "    <tr>\n",
       "      <th>4996</th>\n",
       "      <td>4997</td>\n",
       "      <td>Chicken</td>\n",
       "      <td>Bakery</td>\n",
       "      <td>2023-12-01</td>\n",
       "      <td>436.328980</td>\n",
       "      <td>West</td>\n",
       "    </tr>\n",
       "    <tr>\n",
       "      <th>4997</th>\n",
       "      <td>4998</td>\n",
       "      <td>Milk</td>\n",
       "      <td>Meat</td>\n",
       "      <td>2023-10-29</td>\n",
       "      <td>227.834215</td>\n",
       "      <td>West</td>\n",
       "    </tr>\n",
       "    <tr>\n",
       "      <th>4998</th>\n",
       "      <td>4999</td>\n",
       "      <td>Rice</td>\n",
       "      <td>Dairy</td>\n",
       "      <td>2023-08-23</td>\n",
       "      <td>261.236822</td>\n",
       "      <td>Central</td>\n",
       "    </tr>\n",
       "    <tr>\n",
       "      <th>4999</th>\n",
       "      <td>5000</td>\n",
       "      <td>Chicken</td>\n",
       "      <td>Bakery</td>\n",
       "      <td>2023-10-06</td>\n",
       "      <td>263.635321</td>\n",
       "      <td>East</td>\n",
       "    </tr>\n",
       "  </tbody>\n",
       "</table>\n",
       "<p>5000 rows × 6 columns</p>\n",
       "</div>"
      ],
      "text/plain": [
       "      order_id product_name category  order_date     revenue   region\n",
       "0            1      Chicken     Meat  2023-12-05  443.177076     West\n",
       "1            2         Eggs    Dairy  2023-09-30  263.980108  Central\n",
       "2            3   Vegetables     Meat  2023-03-03   57.065403    South\n",
       "3            4       Fruits    Dairy  2023-02-01  137.527289     East\n",
       "4            5         Eggs   Bakery  2023-07-20  290.176776    South\n",
       "...        ...          ...      ...         ...         ...      ...\n",
       "4995      4996       Fruits   Bakery  2023-12-16  430.325756    South\n",
       "4996      4997      Chicken   Bakery  2023-12-01  436.328980     West\n",
       "4997      4998         Milk     Meat  2023-10-29  227.834215     West\n",
       "4998      4999         Rice    Dairy  2023-08-23  261.236822  Central\n",
       "4999      5000      Chicken   Bakery  2023-10-06  263.635321     East\n",
       "\n",
       "[5000 rows x 6 columns]"
      ]
     },
     "execution_count": 3,
     "metadata": {},
     "output_type": "execute_result"
    }
   ],
   "source": [
    "sales_data"
   ]
  },
  {
   "cell_type": "code",
   "execution_count": 4,
   "id": "69bd122c-d83b-441f-aaac-a76ecff6b611",
   "metadata": {},
   "outputs": [
    {
     "data": {
      "text/html": [
       "<div>\n",
       "<style scoped>\n",
       "    .dataframe tbody tr th:only-of-type {\n",
       "        vertical-align: middle;\n",
       "    }\n",
       "\n",
       "    .dataframe tbody tr th {\n",
       "        vertical-align: top;\n",
       "    }\n",
       "\n",
       "    .dataframe thead th {\n",
       "        text-align: right;\n",
       "    }\n",
       "</style>\n",
       "<table border=\"1\" class=\"dataframe\">\n",
       "  <thead>\n",
       "    <tr style=\"text-align: right;\">\n",
       "      <th></th>\n",
       "      <th>customer_id</th>\n",
       "      <th>total_spend</th>\n",
       "      <th>num_orders</th>\n",
       "      <th>last_order_date</th>\n",
       "    </tr>\n",
       "  </thead>\n",
       "  <tbody>\n",
       "    <tr>\n",
       "      <th>0</th>\n",
       "      <td>1001</td>\n",
       "      <td>8072.510788</td>\n",
       "      <td>14</td>\n",
       "      <td>2023-05-28</td>\n",
       "    </tr>\n",
       "    <tr>\n",
       "      <th>1</th>\n",
       "      <td>1002</td>\n",
       "      <td>4295.331083</td>\n",
       "      <td>39</td>\n",
       "      <td>2023-09-06</td>\n",
       "    </tr>\n",
       "    <tr>\n",
       "      <th>2</th>\n",
       "      <td>1003</td>\n",
       "      <td>9527.625896</td>\n",
       "      <td>10</td>\n",
       "      <td>2023-05-10</td>\n",
       "    </tr>\n",
       "    <tr>\n",
       "      <th>3</th>\n",
       "      <td>1004</td>\n",
       "      <td>4760.739090</td>\n",
       "      <td>46</td>\n",
       "      <td>2023-03-06</td>\n",
       "    </tr>\n",
       "    <tr>\n",
       "      <th>4</th>\n",
       "      <td>1005</td>\n",
       "      <td>6070.383831</td>\n",
       "      <td>45</td>\n",
       "      <td>2023-06-24</td>\n",
       "    </tr>\n",
       "    <tr>\n",
       "      <th>...</th>\n",
       "      <td>...</td>\n",
       "      <td>...</td>\n",
       "      <td>...</td>\n",
       "      <td>...</td>\n",
       "    </tr>\n",
       "    <tr>\n",
       "      <th>995</th>\n",
       "      <td>1996</td>\n",
       "      <td>5208.117050</td>\n",
       "      <td>4</td>\n",
       "      <td>2023-10-06</td>\n",
       "    </tr>\n",
       "    <tr>\n",
       "      <th>996</th>\n",
       "      <td>1997</td>\n",
       "      <td>9912.171374</td>\n",
       "      <td>30</td>\n",
       "      <td>2023-01-20</td>\n",
       "    </tr>\n",
       "    <tr>\n",
       "      <th>997</th>\n",
       "      <td>1998</td>\n",
       "      <td>7101.159629</td>\n",
       "      <td>8</td>\n",
       "      <td>2023-11-01</td>\n",
       "    </tr>\n",
       "    <tr>\n",
       "      <th>998</th>\n",
       "      <td>1999</td>\n",
       "      <td>7886.051337</td>\n",
       "      <td>46</td>\n",
       "      <td>2023-07-02</td>\n",
       "    </tr>\n",
       "    <tr>\n",
       "      <th>999</th>\n",
       "      <td>2000</td>\n",
       "      <td>8735.981732</td>\n",
       "      <td>13</td>\n",
       "      <td>2023-07-09</td>\n",
       "    </tr>\n",
       "  </tbody>\n",
       "</table>\n",
       "<p>1000 rows × 4 columns</p>\n",
       "</div>"
      ],
      "text/plain": [
       "     customer_id  total_spend  num_orders last_order_date\n",
       "0           1001  8072.510788          14      2023-05-28\n",
       "1           1002  4295.331083          39      2023-09-06\n",
       "2           1003  9527.625896          10      2023-05-10\n",
       "3           1004  4760.739090          46      2023-03-06\n",
       "4           1005  6070.383831          45      2023-06-24\n",
       "..           ...          ...         ...             ...\n",
       "995         1996  5208.117050           4      2023-10-06\n",
       "996         1997  9912.171374          30      2023-01-20\n",
       "997         1998  7101.159629           8      2023-11-01\n",
       "998         1999  7886.051337          46      2023-07-02\n",
       "999         2000  8735.981732          13      2023-07-09\n",
       "\n",
       "[1000 rows x 4 columns]"
      ]
     },
     "execution_count": 4,
     "metadata": {},
     "output_type": "execute_result"
    }
   ],
   "source": [
    "customers"
   ]
  },
  {
   "cell_type": "markdown",
   "id": "832550f2-87d6-435f-9f5e-25e0be1ab493",
   "metadata": {},
   "source": [
    "Loading the data correctly ensures that we have access to all the relevant information required for customer segmentation. By reading the data into pandas, we are able to manipulate and preprocess it effectively."
   ]
  },
  {
   "cell_type": "markdown",
   "id": "b982fb1f-6eef-4f33-9a5b-19935fdf7a75",
   "metadata": {},
   "source": [
    "2. Extract Features\n",
    "\n",
    "We extract key features for segmentation, including:\n",
    "\n",
    "1. Total Spend: The total amount a customer has spent based on their orders.\n",
    "2. Order Frequency: How many times a customer has placed an order.\n",
    "3. Recency: How recent the last order was, which is essential for understanding customer engagement."
   ]
  },
  {
   "cell_type": "code",
   "execution_count": 18,
   "id": "89d666d2-f672-4613-af3b-94c0e6672d1f",
   "metadata": {},
   "outputs": [
    {
     "data": {
      "text/plain": [
       "(5000, 6)"
      ]
     },
     "execution_count": 18,
     "metadata": {},
     "output_type": "execute_result"
    }
   ],
   "source": [
    "sales_data.shape"
   ]
  },
  {
   "cell_type": "code",
   "execution_count": 14,
   "id": "54afeb2f-2bbf-4131-80f0-f8cdac2c379a",
   "metadata": {},
   "outputs": [
    {
     "name": "stdout",
     "output_type": "stream",
     "text": [
      "<class 'pandas.core.frame.DataFrame'>\n",
      "RangeIndex: 5000 entries, 0 to 4999\n",
      "Data columns (total 6 columns):\n",
      " #   Column        Non-Null Count  Dtype         \n",
      "---  ------        --------------  -----         \n",
      " 0   order_id      5000 non-null   int64         \n",
      " 1   product_name  5000 non-null   object        \n",
      " 2   category      5000 non-null   object        \n",
      " 3   order_date    5000 non-null   datetime64[ns]\n",
      " 4   revenue       5000 non-null   float64       \n",
      " 5   region        5000 non-null   object        \n",
      "dtypes: datetime64[ns](1), float64(1), int64(1), object(3)\n",
      "memory usage: 234.5+ KB\n"
     ]
    }
   ],
   "source": [
    "sales_data.info()"
   ]
  },
  {
   "cell_type": "code",
   "execution_count": 15,
   "id": "41aea26d-e5f1-4398-9682-510a67d46754",
   "metadata": {},
   "outputs": [
    {
     "data": {
      "text/plain": [
       "order_id        0\n",
       "product_name    0\n",
       "category        0\n",
       "order_date      0\n",
       "revenue         0\n",
       "region          0\n",
       "dtype: int64"
      ]
     },
     "execution_count": 15,
     "metadata": {},
     "output_type": "execute_result"
    }
   ],
   "source": [
    "sales_data.isnull().sum()"
   ]
  },
  {
   "cell_type": "code",
   "execution_count": null,
   "id": "d85355f5-9d46-4b45-9b23-bc7cd8b57804",
   "metadata": {},
   "outputs": [],
   "source": [
    "customers.shape"
   ]
  },
  {
   "cell_type": "code",
   "execution_count": 16,
   "id": "b60ba69e-8fbd-4280-8935-f93825ead227",
   "metadata": {},
   "outputs": [
    {
     "name": "stdout",
     "output_type": "stream",
     "text": [
      "<class 'pandas.core.frame.DataFrame'>\n",
      "RangeIndex: 1000 entries, 0 to 999\n",
      "Data columns (total 4 columns):\n",
      " #   Column           Non-Null Count  Dtype  \n",
      "---  ------           --------------  -----  \n",
      " 0   customer_id      1000 non-null   int64  \n",
      " 1   total_spend      1000 non-null   float64\n",
      " 2   num_orders       1000 non-null   int64  \n",
      " 3   last_order_date  1000 non-null   object \n",
      "dtypes: float64(1), int64(2), object(1)\n",
      "memory usage: 31.4+ KB\n"
     ]
    }
   ],
   "source": [
    "customers.info()"
   ]
  },
  {
   "cell_type": "code",
   "execution_count": 17,
   "id": "bea26e3e-8253-4241-9114-3a65c99e7ed7",
   "metadata": {},
   "outputs": [
    {
     "data": {
      "text/plain": [
       "customer_id        0\n",
       "total_spend        0\n",
       "num_orders         0\n",
       "last_order_date    0\n",
       "dtype: int64"
      ]
     },
     "execution_count": 17,
     "metadata": {},
     "output_type": "execute_result"
    }
   ],
   "source": [
    "customers.isnull().sum()"
   ]
  },
  {
   "cell_type": "code",
   "execution_count": 5,
   "id": "66ac92ab-fcbb-4ccb-8b1c-35fc4ab81cb6",
   "metadata": {},
   "outputs": [],
   "source": [
    "customer_sales = sales_data.groupby('order_id').agg(\n",
    "    total_spend=('revenue', 'sum'),\n",
    "    order_frequency=('order_id', 'count'),\n",
    "    recency=('order_date', lambda x: (pd.to_datetime('today') - pd.to_datetime(x.max())).days)\n",
    ").reset_index()"
   ]
  },
  {
   "cell_type": "markdown",
   "id": "11abb237-2817-40da-acdd-7fa018e3b424",
   "metadata": {},
   "source": [
    "By aggregating these features, we obtain a consolidated view of each customer's behavior. These three features — total spend, order frequency, and recency — are key to understanding the value and engagement of each customer. This data forms the basis for effective customer segmentation."
   ]
  },
  {
   "cell_type": "markdown",
   "id": "083b24d0-48ec-4853-bb6c-6d6b9be22700",
   "metadata": {},
   "source": [
    "Normalise the Data"
   ]
  },
  {
   "cell_type": "code",
   "execution_count": 6,
   "id": "97c439d8-0f87-4663-95ae-8b70a7907447",
   "metadata": {},
   "outputs": [],
   "source": [
    "from sklearn.preprocessing import StandardScaler\n",
    "\n",
    "scaler = StandardScaler()\n",
    "scaled_data = scaler.fit_transform(customer_sales[['total_spend', 'order_frequency', 'recency']])"
   ]
  },
  {
   "cell_type": "markdown",
   "id": "01092f0c-8cc4-4203-8eab-f1810dbc763c",
   "metadata": {},
   "source": [
    "Normalization helps prevent bias toward any one feature and ensures that the K-Means algorithm can treat all features equally. It standardizes the data, making it more suitable for clustering, as K-Means relies on distances between data points to form clusters.\n",
    "\n"
   ]
  },
  {
   "cell_type": "markdown",
   "id": "567bcfdc-a211-4690-9fd4-28895b7e4f9a",
   "metadata": {},
   "source": [
    "Apply K-Means Clustering"
   ]
  },
  {
   "cell_type": "code",
   "execution_count": 7,
   "id": "6c44a436-9e7c-40db-b574-c708960e413d",
   "metadata": {},
   "outputs": [
    {
     "name": "stderr",
     "output_type": "stream",
     "text": [
      "/usr/local/lib/python3.10/site-packages/sklearn/cluster/_kmeans.py:1416: FutureWarning: The default value of `n_init` will change from 10 to 'auto' in 1.4. Set the value of `n_init` explicitly to suppress the warning\n",
      "  super()._check_params_vs_input(X, default_n_init=10)\n"
     ]
    }
   ],
   "source": [
    "from sklearn.cluster import KMeans\n",
    "\n",
    "kmeans = KMeans(n_clusters=3, random_state=42)  # 3 clusters: high-value, frequent, and occasional buyers\n",
    "customer_sales['cluster'] = kmeans.fit_predict(scaled_data)"
   ]
  },
  {
   "cell_type": "markdown",
   "id": "4f749719-c235-4f13-955a-633edc0a822e",
   "metadata": {},
   "source": [
    "The K-Means algorithm groups customers into 3 segments based on their behavior (total spend, frequency, and recency). The centroids of each cluster represent the average values of these features for customers in that segment. The clustering helps us identify distinct customer groups that require different marketing strategies."
   ]
  },
  {
   "cell_type": "markdown",
   "id": "0ee6c62a-489f-43bf-9bf7-2fe223c7fc79",
   "metadata": {},
   "source": [
    "Task 2: Analyze sales trends to identify peak ordering periods"
   ]
  },
  {
   "cell_type": "markdown",
   "id": "e05df42e-4afc-4d14-ac51-ee38662137fb",
   "metadata": {},
   "source": [
    "1. Analyze Sales by Date: Aggregate sales data by date:"
   ]
  },
  {
   "cell_type": "code",
   "execution_count": 8,
   "id": "501354fb-d01f-4348-a731-cbe25d4738c9",
   "metadata": {},
   "outputs": [],
   "source": [
    "sales_data['order_date'] = pd.to_datetime(sales_data['order_date'])\n",
    "daily_sales = sales_data.groupby('order_date')['revenue'].sum().reset_index()"
   ]
  },
  {
   "cell_type": "markdown",
   "id": "46fe480f-fa8d-4fa2-80c0-5e84d4d13c89",
   "metadata": {},
   "source": [
    "Aggregating the sales data by date allows us to observe trends over time and detect patterns in sales behavior. By examining the total sales for each day, we can spot peaks and troughs in sales activity, which is essential for identifying high-demand periods."
   ]
  },
  {
   "cell_type": "markdown",
   "id": "d84ac804-5c31-41a4-bae0-dadda0c60aaa",
   "metadata": {},
   "source": [
    "2. Plot sales overtime"
   ]
  },
  {
   "cell_type": "code",
   "execution_count": 9,
   "id": "1dece836-6199-4be4-a280-cefbc0dc4d70",
   "metadata": {},
   "outputs": [
    {
     "data": {
      "image/png": "[encoded data removed]",
      "text/plain": [
       "<Figure size 720x432 with 1 Axes>"
      ]
     },
     "metadata": {
      "needs_background": "light"
     },
     "output_type": "display_data"
    }
   ],
   "source": [
    "import matplotlib.pyplot as plt\n",
    "import seaborn as sns\n",
    "\n",
    "plt.figure(figsize=(10, 6))\n",
    "sns.lineplot(x='order_date', y='revenue', data=daily_sales)\n",
    "plt.title('Sales Trend Over Time')\n",
    "plt.xlabel('Date')\n",
    "plt.ylabel('Total Sales')\n",
    "plt.show()\n"
   ]
  },
  {
   "cell_type": "markdown",
   "id": "1586357a-ed30-4416-96fd-070df86a32af",
   "metadata": {},
   "source": [
    "The line plot visually highlights fluctuations in sales, making it easier to identify peak periods, such as holidays or promotional periods.\n",
    "From the above graph we can analyze that total sales has been fluctuating overtime between 1000 to 6000 and has reached its maximum units of 8000 on (05-2023)."
   ]
  },
  {
   "cell_type": "markdown",
   "id": "616176c8-e721-4c56-94df-e539515425e2",
   "metadata": {},
   "source": [
    "3. Identify Peak Sales Periods:"
   ]
  },
  {
   "cell_type": "code",
   "execution_count": 10,
   "id": "75641beb-70c8-48d8-ae40-62071b6cb1b5",
   "metadata": {},
   "outputs": [
    {
     "name": "stderr",
     "output_type": "stream",
     "text": [
      "/tmp/ipykernel_65/2035975557.py:1: FutureWarning: Series.dt.weekofyear and Series.dt.week have been deprecated. Please use Series.dt.isocalendar().week instead.\n",
      "  daily_sales['week'] = daily_sales['order_date'].dt.week\n"
     ]
    }
   ],
   "source": [
    "daily_sales['week'] = daily_sales['order_date'].dt.week\n",
    "weekly_sales = daily_sales.groupby('week')['revenue'].sum().reset_index()\n"
   ]
  },
  {
   "cell_type": "markdown",
   "id": "634b6680-41af-48e8-9de5-3447bdb2228b",
   "metadata": {},
   "source": [
    " By aggregating the data over weeks or months, we gain insights into longer-term sales patterns. Identifying peak sales periods helps in understanding when customers are most likely to buy, which can inform inventory management, promotional scheduling, and sales forecasting.\n",
    "\n"
   ]
  },
  {
   "cell_type": "markdown",
   "id": "e70883bb-1bcc-4e66-ab4f-89230077623d",
   "metadata": {},
   "source": [
    "Task 3: Visualize Customer Segments and Order Patterns\n",
    "\n",
    "1.Visualize Customer Segments"
   ]
  },
  {
   "cell_type": "code",
   "execution_count": 11,
   "id": "91d2f987-4619-4915-ab23-244d29b3af80",
   "metadata": {},
   "outputs": [
    {
     "data": {
      "image/png": "[encoded data removed]",
      "text/plain": [
       "<Figure size 720x432 with 1 Axes>"
      ]
     },
     "metadata": {
      "needs_background": "light"
     },
     "output_type": "display_data"
    },
    {
     "data": {
      "image/png": "[encoded data removed]",
      "text/plain": [
       "<Figure size 720x432 with 1 Axes>"
      ]
     },
     "metadata": {
      "needs_background": "light"
     },
     "output_type": "display_data"
    }
   ],
   "source": [
    "plt.figure(figsize=(10, 6))\n",
    "sns.barplot(x='cluster', y='total_spend', data=customer_sales, palette='viridis')\n",
    "plt.title('Average Total Spend by Cluster')\n",
    "plt.xlabel('Cluster')\n",
    "plt.ylabel('Average Total Spend')\n",
    "plt.show()\n",
    "\n",
    "plt.figure(figsize=(10, 6))\n",
    "sns.barplot(x='cluster', y='order_frequency', data=customer_sales, palette='viridis')\n",
    "plt.title('Average Order Frequency by Cluster')\n",
    "plt.xlabel('Cluster')\n",
    "plt.ylabel('Average Order Frequency')\n",
    "plt.show()\n"
   ]
  },
  {
   "cell_type": "markdown",
   "id": "b9a64d5e-3d92-4172-bd9d-c58f904e71dc",
   "metadata": {},
   "source": [
    "This bar plot displays the average total spend for each customer segment (cluster). Each cluster represents a distinct group of customers, and the height of each bar indicates how much, on average, customers within that segment have spent.\n",
    "\n",
    "From the above graph following can be analysed:\n",
    "1. High-Value Customers (Cluster-2) have a significantly higher average total spend compared to other clusters. These customers are more engaged, making larger purchases.\n",
    "2. Frequent but Lower Spend Customers (Cluster-1) may have a moderate total spend, but they place orders more often, which contributes to their high frequency.\n",
    "3. Occasional Customers (Cluster-0) will likely show the lowest average total spend. They may make fewer purchases or purchase lower-value items, indicating that they have lower engagement and are less likely to respond to sales or promotions."
   ]
  },
  {
   "cell_type": "markdown",
   "id": "b57be463-c225-4592-8f72-477759baa9ad",
   "metadata": {},
   "source": [
    "2. Visualize Order Trends:"
   ]
  },
  {
   "cell_type": "code",
   "execution_count": 13,
   "id": "23e5791c-03df-48ad-b4b9-15ed96288c81",
   "metadata": {},
   "outputs": [
    {
     "data": {
      "image/png": "[encoded data removed]",
      "text/plain": [
       "<Figure size 720x432 with 1 Axes>"
      ]
     },
     "metadata": {
      "needs_background": "light"
     },
     "output_type": "display_data"
    }
   ],
   "source": [
    "monthly_sales = daily_sales.groupby(daily_sales['order_date'].dt.month)['revenue'].sum().reset_index()\n",
    "plt.figure(figsize=(10, 6))\n",
    "sns.barplot(x='order_date', y='revenue', data=monthly_sales)\n",
    "plt.title('Monthly Sales')\n",
    "plt.xlabel('Month')\n",
    "plt.ylabel('Sales Amount')\n",
    "plt.show()"
   ]
  },
  {
   "cell_type": "markdown",
   "id": "38a108bf-44d3-4f93-a8e9-f6fd802f897a",
   "metadata": {},
   "source": [
    "Bar plots of order trends over time allow us to visualize monthly fluctuations in order volume, which helps in understanding how customer demand evolves over the course of the year. This is particularly useful for identifying seasonal trends, promotional impact, and demand cycles.\n",
    "\n",
    "From the above graph it can be analysed that customers are highly demanding in the month of October and least demanding in the month of August."
   ]
  },
  {
   "cell_type": "code",
   "execution_count": null,
   "id": "c4a29d61-d48e-4a9a-8123-c4e1fda1cdb4",
   "metadata": {},
   "outputs": [],
   "source": []
  }
 ],
 "metadata": {
  "kernelspec": {
   "display_name": "Python 3 [3.10]",
   "language": "python",
   "name": "python3"
  },
  "language_info": {
   "codemirror_mode": {
    "name": "ipython",
    "version": 3
   },
   "file_extension": ".py",
   "mimetype": "text/x-python",
   "name": "python",
   "nbconvert_exporter": "python",
   "pygments_lexer": "ipython3",
   "version": "3.10.2"
  }
 },
 "nbformat": 4,
 "nbformat_minor": 5
}
